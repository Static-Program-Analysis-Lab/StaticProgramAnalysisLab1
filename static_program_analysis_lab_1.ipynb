{
 "cells": [
  {
   "cell_type": "markdown",
   "source": [
    "# &#128214; Lab 1: Abstract Syntax Trees (ASTs)"
   ],
   "metadata": {
    "collapsed": false
   },
   "id": "9e92748c1d9cb9c8"
  },
  {
   "cell_type": "markdown",
   "source": [
    "## &#128221; Exercise 1: Understanding ASTs\n",
    "\n",
    "### &#127919; Objective\n",
    "To introduce you to Abstract Syntax Trees (ASTs) and how they represent the structure of source code.\n",
    "\n",
    "---\n",
    "\n",
    "### &#10145; Task\n",
    "Parse a simple Python script into an AST and visualize it.\n",
    "\n",
    "---\n",
    "\n",
    "### &#128214; Background\n",
    "\n",
    "An Abstract Syntax Tree (AST) is a hierarchical representation of the structure of source code. \n",
    "Each node in the tree corresponds to a construct in the source code.\n",
    "\n",
    "Python provides a built-in library called `ast` to work with ASTs. \n",
    "The `ast` module allows you to parse, inspect, and modify Python code by working with ASTs.\n",
    "\n",
    "---\n",
    "\n",
    "### &#128221; Instructions\n",
    "\n",
    "1. Import the necessary library.\n",
    "2. Parse the script into an AST using the `ast.parse` function.\n",
    "3. Visualize the AST using `astpretty`\n",
    "\n",
    "Install astpretty and graphviz libraries if you haven't\n",
    "```python\n",
    "!pip3 install astpretty graphviz\n",
    "```\n"
   ],
   "metadata": {
    "collapsed": false
   },
   "id": "e4cc2e58355ef13f"
  },
  {
   "cell_type": "markdown",
   "source": [
    "### Import the necessary library\n",
    "\n",
    "&#128161; *In the following cell, we will import the library needed for this exercise:*\n",
    "- `ast`: a module of the python standard library to transform Python code in its AST representation\n",
    "- `astpretty`: a library to print a *better* representation of an `ast` object\n",
    "- `Digraph`: a class of the `graphviz` library to create directed graphs"
   ],
   "metadata": {
    "collapsed": false
   },
   "id": "207ce6bfc5ac1b15"
  },
  {
   "cell_type": "code",
   "execution_count": null,
   "outputs": [],
   "source": [
    "import ast\n",
    "import astpretty\n",
    "from graphviz import Digraph"
   ],
   "metadata": {
    "collapsed": false
   },
   "id": "1ec67f57ed941bcd"
  },
  {
   "cell_type": "markdown",
   "source": [
    "Python code\n",
    "\n",
    "&#128161; The following cell contains a string that represents the Python code that will be analyzed through this exercise"
   ],
   "metadata": {
    "collapsed": false
   },
   "id": "40e6a56ae1aa275e"
  },
  {
   "cell_type": "code",
   "execution_count": null,
   "outputs": [],
   "source": [
    "code = \"\"\"\n",
    "x = 10\n",
    "y = x + 5\n",
    "print(y)\n",
    "\n",
    "z = x - 5\n",
    "print(z)\n",
    "\n",
    "if x > 5:\n",
    "    a = x * 2\n",
    "    print(a)\n",
    "else:\n",
    "    b = x / 2\n",
    "    print(b)\n",
    "\"\"\""
   ],
   "metadata": {
    "collapsed": false
   },
   "id": "d9bb60249b50e294"
  },
  {
   "cell_type": "markdown",
   "source": [
    "### Parse the code into an AST\n",
    "\n",
    "&#128161; In the following cell, you will use the `ast.parse` function to parse the previous piece of code.\n",
    "&#10145; The function will return an `ast` object in the form of a *tree*.\n",
    "\n",
    "&#128279; https://docs.python.org/3/library/ast.html\n",
    "\n"
   ],
   "metadata": {
    "collapsed": false
   },
   "id": "dcb194294eda4bbf"
  },
  {
   "cell_type": "code",
   "execution_count": null,
   "outputs": [],
   "source": [],
   "metadata": {
    "collapsed": false
   },
   "id": "eb559995b54fd0c7"
  },
  {
   "cell_type": "markdown",
   "source": [
    "### Visualization of the AST\n",
    "\n",
    "&#128161; In the following cell, you will print the AST with the `ast.dump` function "
   ],
   "metadata": {
    "collapsed": false
   },
   "id": "5fb12c451a25e96b"
  },
  {
   "cell_type": "code",
   "execution_count": null,
   "outputs": [],
   "source": [],
   "metadata": {
    "collapsed": false
   },
   "id": "ff70a6abddb02a24"
  },
  {
   "cell_type": "markdown",
   "source": [
    "&#10067; Is it easy to read?"
   ],
   "metadata": {
    "collapsed": false
   },
   "id": "7802c8b41cf2c2fe"
  },
  {
   "cell_type": "markdown",
   "source": [
    "&#128161; Now, you will use the `astpretty.pprint` function with the tree as an argument to print the AST in a *fancier* manner"
   ],
   "metadata": {
    "collapsed": false
   },
   "id": "59360348a50219fc"
  },
  {
   "cell_type": "code",
   "execution_count": null,
   "outputs": [],
   "source": [],
   "metadata": {
    "collapsed": false
   },
   "id": "f464fefb4d8cc573"
  },
  {
   "cell_type": "markdown",
   "source": [
    "&#10071; Way better right?"
   ],
   "metadata": {
    "collapsed": false
   },
   "id": "242c173090ca12ea"
  },
  {
   "cell_type": "markdown",
   "source": [
    "&#129300; But could it be better?"
   ],
   "metadata": {
    "collapsed": false
   },
   "id": "62777810ddbba0d5"
  },
  {
   "cell_type": "markdown",
   "source": [
    "&#128161; In fact, yes."
   ],
   "metadata": {
    "collapsed": false
   },
   "id": "f763ef3edd15545b"
  },
  {
   "cell_type": "markdown",
   "source": [
    "&#10145; We can use graph libraries, such as `graphviz`, to vizualize graph data (a tree is a graph).\n",
    "\n",
    "You can use the following `add_node` function to populate the `dot` object which is a `Digraph` (i.e., a directed graph).\n",
    "Since the `tree` object simply points to the first node of the tree, i.e., the root node, you just have to call the `add_node` function once on the `tree` object."
   ],
   "metadata": {
    "collapsed": false
   },
   "id": "ba22da5589e0360c"
  },
  {
   "cell_type": "code",
   "execution_count": null,
   "outputs": [],
   "source": [
    "dot = Digraph(comment='AST')\n",
    "\n",
    "def add_node(node, parent=None):\n",
    "    \"\"\"\n",
    "    Adds a node to the DiGraph and connects it to its parent.\n",
    "    \n",
    "    Parameters:\n",
    "        node: The AST node to add.\n",
    "        parent: The parent AST node of the node to add.\n",
    "    \"\"\"\n",
    "    node_name = str(node.__class__.__name__)\n",
    "    dot.node(str(id(node)), node_name)\n",
    "    \n",
    "    if parent:\n",
    "        dot.edge(str(id(parent)), str(id(node)))\n",
    "    \n",
    "    for child in ast.iter_child_nodes(node):\n",
    "        add_node(child, node)\n",
    "\n",
    "# We call the function of the tree object since the tree object actually points to the root node of the tree\n"
   ],
   "metadata": {
    "collapsed": false
   },
   "id": "2b01dcf82ef7f8ca"
  },
  {
   "cell_type": "markdown",
   "source": [
    "Great, you now have a directed graph in memory, let us now have a look at it.\n",
    "\n",
    "&#10145; The following piece of code simply sets the format of the graph into `dot` which is a textual graph representation.\n",
    "You can directly print the `dot` object, but you will have a textual format.\n",
    "\n",
    "&#128161; Hopefully, our `jupyter-notebook` understands the dot format, so you can just invoke `dot` in the cell and it will directly display a graph visual of your AST."
   ],
   "metadata": {
    "collapsed": false
   },
   "id": "1aa56731615cb2ce"
  },
  {
   "cell_type": "code",
   "execution_count": null,
   "outputs": [],
   "source": [
    "dot.format = 'dot'\n"
   ],
   "metadata": {
    "collapsed": false
   },
   "id": "6600f7fb8a183fe7"
  },
  {
   "cell_type": "markdown",
   "source": [
    "### &#10067; Questions"
   ],
   "metadata": {
    "collapsed": false
   },
   "id": "7da84a8754ec246"
  },
  {
   "cell_type": "markdown",
   "source": [
    "#### Node Identification:\n",
    "- Identify and list all the different types of nodes present in the AST. \n",
    "- How many nodes of each type are there?\n",
    "\n",
    "#### Tree Structure:\n",
    "- Describe the parent-child relationships in the AST.\n",
    "- Identify the root node of the AST.\n",
    "- Identify leaf nodes in the AST.\n",
    "\n",
    "#### Understanding Code through AST:\n",
    "- Explain how the `if` statement in the script is represented in the AST.\n",
    "- Identify the part of the AST that corresponds to arithmetic operations in the script.\n",
    "\n",
    "#### Function Calls:\n",
    "- Identify the function call in the script and explain its representation in the AST."
   ],
   "metadata": {
    "collapsed": false
   },
   "id": "151efd7f0ce68ff"
  },
  {
   "cell_type": "markdown",
   "source": [
    "## &#128214; Exercise 2: Traversing the AST\n",
    "\n",
    "### &#127919; Objective\n",
    "To teach you how to traverse an Abstract Syntax Tree and access its nodes.\n",
    "\n",
    "---\n",
    "\n",
    "### &#10145; Task\n",
    "Write a function to traverse the AST and print the type of each node.\n",
    "\n",
    "---\n",
    "\n",
    "### &#128214; Background\n",
    "\n",
    "Traversing the AST involves visiting all the nodes of the tree and performing an operation at each node.\n",
    "The traversal can be done in various ways, including depth-first and breadth-first traversal. \n",
    "In this exercise, we'll focus on depth-first traversal.\n",
    "\n",
    "The `ast` module in Python provides a function `iter_child_nodes` to iterate over all direct children of a node. \n",
    "This will be helpful in recursively traversing the tree.\n",
    "\n",
    "---\n",
    "\n",
    "### &#128221; Instructions\n",
    "\n",
    "1. Import the necessary library.\n",
    "2. Parse the script into an AST using the `ast.parse` function.\n",
    "3. Write a recursive function to traverse the AST. The function should print the type of each node as it traverses the tree.\n",
    "4. Call the function, passing the AST as an argument.\n"
   ],
   "metadata": {
    "collapsed": false
   },
   "id": "8b8093642c8e5d33"
  },
  {
   "cell_type": "markdown",
   "source": [
    "### Write a recursive function to traverse the AST\n",
    "\n",
    "&#128161; In the following cell, you will write the body of the `traverse_ast_to_print_type_of_node` function.\n",
    "Use the `ast.iter_child_nodes` to iterate over the children of a given node in a depth-first manner to print each node of the AST.\n",
    "\n",
    "&#9888; Keep in mind that the `tree` object in fact represents (points to) the first node of the tree, so it is fine to give the `tree` object as a parameter of the `traverse_ast_to_print_type_of_node` function even though it takes a node as a parameter.\n",
    "Keep track of the recursion level and use that information to indent the information printed."
   ],
   "metadata": {
    "collapsed": false
   },
   "id": "c08603f041b3dbd2"
  },
  {
   "cell_type": "code",
   "execution_count": null,
   "outputs": [],
   "source": [
    "def traverse_ast_to_print_type_of_node(node, level=0):\n",
    "    \"\"\"\n",
    "    Recursive function to traverse the AST and print the type of each node.\n",
    "    \n",
    "    Parameters:\n",
    "    node: The current node in the AST.\n",
    "    level: The depth level of the current node (used for indentation).\n",
    "    \"\"\""
   ],
   "metadata": {
    "collapsed": false
   },
   "id": "7a09a384de79968c"
  },
  {
   "cell_type": "markdown",
   "source": [
    "#### Call the function\n",
    "\n",
    "&#128161; In the following cell, you will simply call the previous `traverse_ast_to_print_type_of_node` function you have implemented.\n",
    "The output should be an indented version of the nodes of the AST with a *depth-first* order."
   ],
   "metadata": {
    "collapsed": false
   },
   "id": "aa84707340ea31ef"
  },
  {
   "cell_type": "code",
   "execution_count": null,
   "outputs": [],
   "source": [],
   "metadata": {
    "collapsed": false
   },
   "id": "40125c8fbb975647"
  },
  {
   "cell_type": "markdown",
   "source": [
    "### More complex traverse function"
   ],
   "metadata": {
    "collapsed": false
   },
   "id": "ebbcf24033a7bc34"
  },
  {
   "cell_type": "markdown",
   "source": [
    "&#128161; In this task, you are required to write a function to traverse the AST of the provided Python script and perform different actions depending on the type of each node. \n",
    "\n",
    "In the following cell, you will rewrite the body of the `traverse_ast_to_print_type_of_node` function to print different things according to the type of the node.\n",
    "\n",
    "&#10145; In this exercice, you will handle the following types of statements:\n",
    "- `ast.Assign`\n",
    "- `ast.If`\n",
    "- `ast.Call`\n",
    "\n",
    "You can use the `isinstance` Python function to check the type of an object.\n",
    "\n",
    "&#128279; https://docs.python.org/3/library/ast.html"
   ],
   "metadata": {
    "collapsed": false
   },
   "id": "18d46ebf675de3c5"
  },
  {
   "cell_type": "code",
   "execution_count": null,
   "outputs": [],
   "source": [
    "def traverse_ast_to_print_type_of_node(node, level=0):\n",
    "    \"\"\"\n",
    "    Recursive function to traverse the AST, analyze the type of each node,\n",
    "    and perform an action based on the type.\n",
    "    \n",
    "    Parameters:\n",
    "    node: The current node in the AST.\n",
    "    level: The depth level of the current node (used for indentation).\n",
    "    \"\"\""
   ],
   "metadata": {
    "collapsed": false
   },
   "id": "13dd4705c631a60d"
  },
  {
   "cell_type": "markdown",
   "source": [
    "#### Call the function\n",
    "\n",
    "&#128161; In the following cell, you will simply call the previous `traverse_ast_to_print_type_of_node` function you have implemented.\n",
    "The output should be an indented version of the nodes of the AST with a *depth-first* order."
   ],
   "metadata": {
    "collapsed": false
   },
   "id": "aed930d74c71813d"
  },
  {
   "cell_type": "code",
   "execution_count": null,
   "outputs": [],
   "source": [],
   "metadata": {
    "collapsed": false
   },
   "id": "44e08ed416728cfc"
  },
  {
   "cell_type": "markdown",
   "source": [
    "### &#10067; Questions"
   ],
   "metadata": {
    "collapsed": false
   },
   "id": "6ad13c19e1500e75"
  },
  {
   "cell_type": "markdown",
   "source": [
    "#### What information does an Assign node in the AST provide? How did you extract this information in your function?"
   ],
   "metadata": {
    "collapsed": false
   },
   "id": "a867fa6d382cec07"
  },
  {
   "cell_type": "markdown",
   "source": [
    "#### How did you differentiate between different types of nodes while traversing the AST?"
   ],
   "metadata": {
    "collapsed": false
   },
   "id": "8bafa981b90673d"
  },
  {
   "cell_type": "markdown",
   "source": [
    "## &#128214; Exercise 3: Extracting relevant information from the AST\n",
    "\n",
    "### &#127919; Objective\n",
    "To further explore the AST by extracting useful information from a complex Python script. \n",
    "This will teach you how different parts of a script are represented in the AST and how to access this information.\n",
    "\n",
    "---\n",
    "\n",
    "### &#10145; Task\n",
    "Traverse the AST of a provided Python script, and output a summary that includes each constant variable with its constant value, each function with its name, and the types of the parameters used. \n",
    "For non-constant variables, provide how it is built (e.g., if `x = a + b`, then output something like `a + b`).\n",
    "\n",
    "---\n",
    "\n",
    "### &#128214; Background\n",
    "\n",
    "In static analysis, understanding the structure of the code is important. \n",
    "The AST provides a hierarchical representation of the code, where each node corresponds to a construct in the source code. \n",
    "By analyzing the AST, we can extract various pieces of information about the code which can be useful in many areas like code optimization, code coverage analysis, code style checking, etc.\n",
    "\n",
    "In this exercise, you'll dive deeper into understanding and working with ASTs by writing a function to traverse the AST of a Python script and output a summary of the script.\n",
    "\n",
    "---\n",
    "\n",
    "### &#128221; Instructions\n",
    "\n",
    "1. You are provided with a Python script. Parse the script into an AST using the `ast.parse` function.\n",
    "2. Write a function to traverse the AST and extract the following information:\n",
    "   - Each constant variable with its constant value.\n",
    "   - Each function with its name, and the types of the parameters used.\n",
    "   - For non-constant variables, provide how it is built.\n",
    "3. Output the summary in the following format:\n",
    "```plaintext\n",
    "{\n",
    "    'Constants': {\n",
    "        'CONST_NAME': 'CONST_VALUE',\n",
    "        ...\n",
    "    },\n",
    "    'Functions': {\n",
    "        'FUNC_NAME': [('PARAM_NAME', 'PARAM_TYPE'), ...],\n",
    "        ...\n",
    "    },\n",
    "    'Variables': {\n",
    "        'VAR_NAME': 'EXPRESSION',\n",
    "        ...\n",
    "    }\n",
    "}\n",
    "```\n",
    "4. Make sure to handle different kinds of nodes that you come across in the AST, even if they are not part of the summary. This will help you understand how various Python constructs are represented in the AST."
   ],
   "metadata": {
    "collapsed": false
   },
   "id": "aebcb1922b2b2930"
  },
  {
   "cell_type": "markdown",
   "source": [
    "### &#128221; Note\n",
    "The Python `ast` module provides a function `ast.walk` which can be used to traverse the AST."
   ],
   "metadata": {
    "collapsed": false
   },
   "id": "eb060e9225f9632"
  },
  {
   "cell_type": "markdown",
   "source": [
    "&#9874; Utility function\n",
    "\n",
    "We provide a utility function called `print_dict` that can be used to print an indented representation of a `dict` object in Python."
   ],
   "metadata": {
    "collapsed": false
   },
   "id": "c3c1484f2a4b65ec"
  },
  {
   "cell_type": "code",
   "execution_count": null,
   "outputs": [],
   "source": [
    "import json\n",
    "\n",
    "def print_dict(dictionary):\n",
    "    \"\"\"\n",
    "    Prints a dictionary in a beautified and indented format.\n",
    "\n",
    "    Parameters:\n",
    "    dictionary: The dictionary to be printed.\n",
    "\n",
    "    Returns:\n",
    "    None\n",
    "    \"\"\"\n",
    "    print(json.dumps(dictionary, indent=4))"
   ],
   "metadata": {
    "collapsed": false
   },
   "id": "b310fed0f4346347"
  },
  {
   "cell_type": "markdown",
   "source": [
    "&#128161; The following cell displays the new piece of code that you will analyze."
   ],
   "metadata": {
    "collapsed": false
   },
   "id": "614df61a892acdad"
  },
  {
   "cell_type": "code",
   "execution_count": null,
   "outputs": [],
   "source": [
    "code = \"\"\"\n",
    "import math\n",
    "\n",
    "def calculate_area(radius: float) -> float:\n",
    "    return math.pi * radius * radius\n",
    "\n",
    "def calculate_perimeter(radius: float) -> float:\n",
    "    return 2 * math.pi * radius\n",
    "\n",
    "CONST_PI = 3.14159\n",
    "\n",
    "x = 10\n",
    "y = x + 5\n",
    "z = x * y\n",
    "\n",
    "if x > y:\n",
    "    result = calculate_area(x)\n",
    "else:\n",
    "    result = calculate_perimeter(y)\n",
    "\"\"\"\n"
   ],
   "metadata": {
    "collapsed": false
   },
   "id": "ba0e1363f675ea64"
  },
  {
   "cell_type": "markdown",
   "source": [
    "### Parse the code\n",
    "\n",
    "&#128161; In the following cell, you will parse the code and get an AST."
   ],
   "metadata": {
    "collapsed": false
   },
   "id": "188f9e7fadf82572"
  },
  {
   "cell_type": "code",
   "execution_count": null,
   "outputs": [],
   "source": [],
   "metadata": {
    "collapsed": false
   },
   "id": "f8401c4959124275"
  },
  {
   "cell_type": "markdown",
   "source": [
    "### Extract information\n",
    "\n",
    "&#128161; In the following cell, you will implement the `summarize_ast` function that takes a `node` as a parameter and that returns a dictionary with the aforementioned values that need to be extracted from the AST."
   ],
   "metadata": {
    "collapsed": false
   },
   "id": "9ee428eebb58bcd4"
  },
  {
   "cell_type": "code",
   "execution_count": null,
   "outputs": [],
   "source": [
    "def summarize_ast(node):\n",
    "    \"\"\"\n",
    "    Analyzes an Abstract Syntax Tree (AST) to summarize information about constants,\n",
    "    functions, and variables within the tree.\n",
    "\n",
    "    Parameters:\n",
    "    node: The root node of the AST.\n",
    "\n",
    "    Returns:\n",
    "    dict: A dictionary containing three sub-dictionaries for constants, functions,\n",
    "          and variables, respectively. Each sub-dictionary contains names as keys\n",
    "          and either values or type information as values.\n",
    "    \"\"\"\n",
    "    summary = {\n",
    "        'Constants': {},\n",
    "        'Functions': {},\n",
    "        'Variables': {}\n",
    "    }\n",
    "    \n",
    "    for child in ast.walk(node):"
   ],
   "metadata": {
    "collapsed": false
   },
   "id": "f10dcb1a8f5d29c0"
  },
  {
   "cell_type": "markdown",
   "source": [
    "#### Call the function\n",
    "\n",
    "&#128161; In the following cell, you will simply call the previous `summarize_ast` function you have implemented and store the result in a variable.\n",
    "Then, print the content of the variable using the `print_dict` function."
   ],
   "metadata": {
    "collapsed": false
   },
   "id": "2390b6a9cb02db60"
  },
  {
   "cell_type": "code",
   "execution_count": null,
   "outputs": [],
   "source": [],
   "metadata": {
    "collapsed": false
   },
   "id": "d7d91e98606341fd"
  },
  {
   "cell_type": "markdown",
   "source": [
    "### Further extraction\n",
    "\n",
    "&#128161; Let's go beyond by extracting the following information:\n",
    "1. the different elements that are being compared in the code\n",
    "2. the list of libraries imported\n",
    "3. the function return types\n",
    "\n",
    "rewrite the `summarize_ast` function to extract these information"
   ],
   "metadata": {
    "collapsed": false
   },
   "id": "5776118ad66d2142"
  },
  {
   "cell_type": "code",
   "execution_count": null,
   "outputs": [],
   "source": [
    "def summarize_ast(node, summary=None):\n",
    "    \"\"\"\n",
    "    Recursively analyzes an Abstract Syntax Tree (AST) to summarize information about\n",
    "    comparisons, imported libraries, and function return types within the tree.\n",
    "\n",
    "    Parameters:\n",
    "    node: The current node in the AST.\n",
    "    summary (dict, optional): A dictionary to store the analysis summary.\n",
    "\n",
    "    Returns:\n",
    "    dict: A dictionary containing lists and sub-dictionaries with summaries of comparisons,\n",
    "          imported libraries, and function return types, respectively.\n",
    "    \"\"\"\n",
    "    if summary is None:\n",
    "        summary = {\n",
    "            'Comparisons': [],\n",
    "            'Library Imported': [],\n",
    "            'Function Return Types': {}\n",
    "        }"
   ],
   "metadata": {
    "collapsed": false
   },
   "id": "407196bc6e1efdf2"
  },
  {
   "cell_type": "markdown",
   "source": [
    "#### Call the function\n",
    "\n",
    "&#128161; In the following cell, you will simply call the previous `summarize_ast` function you have implemented and store the result in a variable.\n",
    "Then, print the content of the variable using the `print_dict` function."
   ],
   "metadata": {
    "collapsed": false
   },
   "id": "d5c0f6501b1a9f73"
  },
  {
   "cell_type": "code",
   "execution_count": null,
   "outputs": [],
   "source": [],
   "metadata": {
    "collapsed": false
   },
   "id": "52cc35eea719ec19"
  },
  {
   "cell_type": "markdown",
   "source": [
    "&#128161; So far, we have seen how to traverse the AST with different functions, but in Python there is the `ast.NodeVisitor` that simplifies our lives to traverse, we can simply use it to create a new class and extends this one, then implement the `visit` method that we need according to the type of node, for instan if you want to visit an `import` node, use the `visit_Import` function, see https://docs.python.org/3/library/ast.html#ast.NodeVisitor for more information.\n",
    "\n",
    "Modify the previous `summarize_ast` function so that it now relies on a class, say `ASTSummarizer`, that extends `ast.NodeVisitor` and that has the same behavior of the `summarize_ast`."
   ],
   "metadata": {
    "collapsed": false
   },
   "id": "272bf5a535943b89"
  },
  {
   "cell_type": "code",
   "execution_count": null,
   "outputs": [],
   "source": [
    "class ASTSummarizer(ast.NodeVisitor):\n",
    "    \"\"\"\n",
    "    A class to analyze an Abstract Syntax Tree (AST) and summarize information\n",
    "    about comparisons, imported libraries, and function return types.\n",
    "    \"\"\"\n",
    "\n",
    "    def __init__(self):\n",
    "        \"\"\"\n",
    "        Initialize summary as an empty dictionary.\n",
    "        \"\"\"\n",
    "        self.summary = {\n",
    "            'Comparisons': [],\n",
    "            'Library Imported': [],\n",
    "            'Function Return Types': {}\n",
    "        }\n",
    "\n",
    "    def visit_Import(self, node):\n",
    "        \"\"\"\n",
    "        Visit Import nodes.\n",
    "\n",
    "        Parameters:\n",
    "        node: ast.Import node to be processed.\n",
    "        \"\"\"\n",
    "\n",
    "    def visit_FunctionDef(self, node):\n",
    "        \"\"\"\n",
    "        Visit Function Definition nodes.\n",
    "\n",
    "        Parameters:\n",
    "        node: ast.FunctionDef node to be processed.\n",
    "        \"\"\"\n",
    "\n",
    "    def visit_Compare(self, node):\n",
    "        \"\"\"\n",
    "        Visit Comparison nodes.\n",
    "\n",
    "        Parameters:\n",
    "        node: ast.Compare node to be processed.\n",
    "        \"\"\""
   ],
   "metadata": {
    "collapsed": false
   },
   "id": "6619a5faf030d054"
  },
  {
   "cell_type": "markdown",
   "source": [
    "#### Call the function\n",
    "\n",
    "&#128161; In the following cell, you will simply initialize an `ASTSummarizer` object and call the `visit` method one it with the parsed tree as a parameter.\n",
    "\n",
    "Then, print the content of the summary field of your `ASTSummarizer` object using the `print_dict` function."
   ],
   "metadata": {
    "collapsed": false
   },
   "id": "ec315570d39dc4cf"
  },
  {
   "cell_type": "code",
   "execution_count": null,
   "outputs": [],
   "source": [],
   "metadata": {
    "collapsed": false
   },
   "id": "208bfc2b81317f37"
  }
 ],
 "metadata": {
  "kernelspec": {
   "display_name": "Python 3",
   "language": "python",
   "name": "python3"
  },
  "language_info": {
   "codemirror_mode": {
    "name": "ipython",
    "version": 2
   },
   "file_extension": ".py",
   "mimetype": "text/x-python",
   "name": "python",
   "nbconvert_exporter": "python",
   "pygments_lexer": "ipython2",
   "version": "2.7.6"
  }
 },
 "nbformat": 4,
 "nbformat_minor": 5
}
